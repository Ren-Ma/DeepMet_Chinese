{
 "cells": [
  {
   "cell_type": "code",
   "execution_count": 1,
   "id": "4010245f-2ee9-4977-9458-33f68753aaf1",
   "metadata": {},
   "outputs": [],
   "source": [
    "import re\n",
    "import jieba\n",
    "import jieba.posseg as pseg\n",
    "import pandas as pd\n",
    "import numpy as np\n",
    "from tqdm import tqdm\n",
    "from sklearn.model_selection import train_test_split"
   ]
  },
  {
   "cell_type": "code",
   "execution_count": 2,
   "id": "dbaf6d01-8a5a-4d24-ab76-53aae3f59533",
   "metadata": {},
   "outputs": [
    {
     "data": {
      "text/plain": "'/Users/ma/Desktop/metaphor/DeepMet/DeepMet_chinese'"
     },
     "execution_count": 2,
     "metadata": {},
     "output_type": "execute_result"
    }
   ],
   "source": [
    "import os\n",
    "os.getcwd()"
   ]
  },
  {
   "cell_type": "markdown",
   "id": "4a5c934d-6f9c-4db1-a2ef-703ea2317afd",
   "metadata": {},
   "source": [
    "## 分割CCL_PSUCMC句子"
   ]
  },
  {
   "cell_type": "code",
   "execution_count": 176,
   "id": "bd0db55a-b6d4-4f16-98ba-cf6785447f20",
   "metadata": {},
   "outputs": [],
   "source": [
    "def cut123(row):\n",
    "    word_lst = jieba.lcut(row['sentence'])\n",
    "    row['word_lst'] = word_lst\n",
    "    # if len(row['meta_word']) > 0: \n",
    "    row['meta_in_lst'] = [w in word_lst for w in row['meta_word'] if len(w) > 0]\n",
    "    return row"
   ]
  },
  {
   "cell_type": "code",
   "execution_count": 177,
   "id": "01b84c56-220e-4a78-b0ac-316cf3483ad5",
   "metadata": {},
   "outputs": [],
   "source": [
    "CCL_PSUCMC_edited = CCL_PSUCMC.apply(cut123, axis = 1)"
   ]
  },
  {
   "cell_type": "code",
   "execution_count": 178,
   "id": "c40474eb-791d-41ba-b638-2d0c05efc83e",
   "metadata": {},
   "outputs": [],
   "source": [
    "CCL_PSUCMC_edited.to_excel('CCL_PSUCMC_edited.xlsx', index = False)"
   ]
  },
  {
   "cell_type": "code",
   "execution_count": 226,
   "id": "03a476da-0e45-4e04-a53c-6b2ad4093001",
   "metadata": {},
   "outputs": [],
   "source": [
    "a = [len(jieba.lcut(word)) for meta_word in CCL_PSUCMC['meta_word'] for word in meta_word if len(word) > 0]\n",
    "a = np.array(a)"
   ]
  },
  {
   "cell_type": "markdown",
   "id": "0b07c596-aa5e-4f89-9d55-966e3136ac66",
   "metadata": {},
   "source": [
    "# HowNet"
   ]
  },
  {
   "cell_type": "code",
   "execution_count": 258,
   "id": "9182ca4e-d41e-4abf-9ca7-e688aed91ce3",
   "metadata": {},
   "outputs": [
    {
     "name": "stdout",
     "output_type": "stream",
     "text": [
      "Initializing OpenHowNet succeeded!\n"
     ]
    }
   ],
   "source": [
    "import OpenHowNet\n",
    "hownet_dict = OpenHowNet.HowNetDict()"
   ]
  },
  {
   "cell_type": "code",
   "execution_count": 259,
   "id": "820fa28a-b028-4b02-b7db-c4616b618fd4",
   "metadata": {},
   "outputs": [
    {
     "name": "stdout",
     "output_type": "stream",
     "text": [
      "Initializing OpenHowNet succeeded!\n",
      "Initializing similarity calculation succeeded!\n"
     ]
    }
   ],
   "source": [
    "hownet_dict_advanced = OpenHowNet.HowNetDict(init_sim=True)"
   ]
  },
  {
   "cell_type": "code",
   "execution_count": null,
   "id": "7f1d2a1c-a3ef-4abc-b94a-acdf2e0bcabb",
   "metadata": {},
   "outputs": [
    {
     "name": "stderr",
     "output_type": "stream",
     "text": [
      "resources/resources.zip: 72948KB [00:07, 9476.43KB/s]                                         \n"
     ]
    }
   ],
   "source": [
    "OpenHowNet.download()"
   ]
  },
  {
   "cell_type": "code",
   "execution_count": 302,
   "id": "cdb2b6a3-1095-4a6d-a503-50da3dc74dae",
   "metadata": {},
   "outputs": [
    {
     "data": {
      "text/plain": [
       "[No.56156|appearance|出笼,\n",
       " No.56154|come out of the steamer|出笼,\n",
       " No.56157|come forth|出笼,\n",
       " No.56155|appear|出笼]"
      ]
     },
     "execution_count": 302,
     "metadata": {},
     "output_type": "execute_result"
    }
   ],
   "source": [
    "result_list = hownet_dict.get_sense('出笼')\n",
    "result_list"
   ]
  },
  {
   "cell_type": "code",
   "execution_count": 295,
   "id": "89bf3d3c-c42f-46d3-b6c5-df3328ea5ec1",
   "metadata": {},
   "outputs": [],
   "source": [
    "b = hownet_dict.get_sense('制作')"
   ]
  },
  {
   "cell_type": "code",
   "execution_count": null,
   "id": "971f74d1-a969-49e7-a62c-ae21fd97d97d",
   "metadata": {},
   "outputs": [],
   "source": [
    "hownet_dict_advanced.get_nearest_words('滞留', language='zh',K=10)"
   ]
  },
  {
   "cell_type": "code",
   "execution_count": 305,
   "id": "61bcd732-c931-4eb2-9cea-8c9d8d496d70",
   "metadata": {},
   "outputs": [
    {
     "data": {
      "text/plain": [
       "[{'sense': No.231447|compilation|编辑, 'sememes': [compile|编辑]},\n",
       " {'sense': No.231448|compile|编辑, 'sememes': [compile|编辑]},\n",
       " {'sense': No.231449|edit|编辑, 'sememes': [compile|编辑]},\n",
       " {'sense': No.231450|editing|编辑, 'sememes': [compile|编辑]},\n",
       " {'sense': No.231451|editorial|编辑, 'sememes': [compile|编辑]},\n",
       " {'sense': No.231452|redact|编辑, 'sememes': [compile|编辑]},\n",
       " {'sense': No.231453|redaction|编辑, 'sememes': [compile|编辑]},\n",
       " {'sense': No.231454|compiler|编辑, 'sememes': [human|人]},\n",
       " {'sense': No.231455|editor|编辑, 'sememes': [human|人]}]"
      ]
     },
     "execution_count": 305,
     "metadata": {},
     "output_type": "execute_result"
    }
   ],
   "source": [
    "hownet_dict.get_sememes_by_word(word='编辑', display='list',merge=False, expanded_layer=2, K=None)"
   ]
  },
  {
   "cell_type": "code",
   "execution_count": 303,
   "id": "8fc8e6d6-40f2-463d-a8cf-fbcb958e3723",
   "metadata": {},
   "outputs": [
    {
     "name": "stdout",
     "output_type": "stream",
     "text": [
      "{'role': 'sense', 'name': No.56154|come out of the steamer|出笼, 'children': [{'role': 'None', 'name': ComeToWorld|问世, 'children': [{'role': 'LocationIni', 'name': tool|用具, 'children': [{'role': 'instrument', 'name': cook|烹调}]}, {'role': 'experiencer', 'name': food|食品}]}]}\n"
     ]
    }
   ],
   "source": [
    "print(result_list[1].get_sememe_tree())"
   ]
  },
  {
   "cell_type": "code",
   "execution_count": 301,
   "id": "b8efd23f-7f2d-4af7-acfe-2a59983fed6e",
   "metadata": {},
   "outputs": [
    {
     "name": "stdout",
     "output_type": "stream",
     "text": [
      "[sense]No.58594|facture|制作\n",
      "└── [None]produce|制造\n",
      "\n"
     ]
    }
   ],
   "source": [
    "b[1].visualize_sememe_tree()"
   ]
  },
  {
   "cell_type": "code",
   "execution_count": 269,
   "id": "a7e989ec-2d21-4fb2-8166-c310b43dddb6",
   "metadata": {},
   "outputs": [
    {
     "data": {
      "text/plain": [
       "'{publications|书刊}'"
      ]
     },
     "execution_count": 269,
     "metadata": {},
     "output_type": "execute_result"
    }
   ],
   "source": [
    "hownet_dict.get_sense('创作')[0].Def"
   ]
  },
  {
   "cell_type": "code",
   "execution_count": 273,
   "id": "930e94eb-24fd-4722-a4cf-06350d130062",
   "metadata": {},
   "outputs": [
    {
     "data": {
      "text/plain": [
       "[{'sense': No.58594|facture|制作, 'sememes': [produce|制造]},\n",
       " {'sense': No.58595|make|制作, 'sememes': [produce|制造]},\n",
       " {'sense': No.58596|manufacture|制作, 'sememes': [produce|制造]},\n",
       " {'sense': No.58597|manufacture|制作, 'sememes': [produce|制造]}]"
      ]
     },
     "execution_count": 273,
     "metadata": {},
     "output_type": "execute_result"
    }
   ],
   "source": [
    "hownet_dict.get_sememes_by_word(word='制作', display='list',merge=False, expanded_layer=-1, K=None)"
   ]
  },
  {
   "cell_type": "code",
   "execution_count": 58,
   "id": "ca263200-66b9-4c36-bf47-bcd52c301966",
   "metadata": {},
   "outputs": [
    {
     "data": {
      "text/plain": [
       "[{'sense': No.234921|consume|耗, 'sememes': [exhaust|损耗]},\n",
       " {'sense': No.234922|cost|耗, 'sememes': [exhaust|损耗]},\n",
       " {'sense': No.234923|dawdle|耗, 'sememes': [time|时间, lavish|浪费]},\n",
       " {'sense': No.234924|waste time|耗, 'sememes': [time|时间, lavish|浪费]}]"
      ]
     },
     "execution_count": 58,
     "metadata": {},
     "output_type": "execute_result"
    }
   ],
   "source": [
    "hownet_dict.get_sememes_by_word(word='耗', display='list',merge=False, expanded_layer=-1, K=None)"
   ]
  },
  {
   "cell_type": "code",
   "execution_count": 59,
   "id": "6ef4423c-2304-44b0-ba4c-c3ee0165f740",
   "metadata": {},
   "outputs": [
    {
     "data": {
      "text/plain": [
       "[{'sense': No.234921|consume|耗,\n",
       "  'sememes': {'role': 'sense',\n",
       "   'name': No.234921|consume|耗,\n",
       "   'children': [{'role': 'None', 'name': exhaust|损耗}]}},\n",
       " {'sense': No.234922|cost|耗,\n",
       "  'sememes': {'role': 'sense',\n",
       "   'name': No.234922|cost|耗,\n",
       "   'children': [{'role': 'None', 'name': exhaust|损耗}]}},\n",
       " {'sense': No.234923|dawdle|耗,\n",
       "  'sememes': {'role': 'sense',\n",
       "   'name': No.234923|dawdle|耗,\n",
       "   'children': [{'role': 'None',\n",
       "     'name': lavish|浪费,\n",
       "     'children': [{'role': 'RelateTo', 'name': time|时间}]}]}},\n",
       " {'sense': No.234924|waste time|耗,\n",
       "  'sememes': {'role': 'sense',\n",
       "   'name': No.234924|waste time|耗,\n",
       "   'children': [{'role': 'None',\n",
       "     'name': lavish|浪费,\n",
       "     'children': [{'role': 'RelateTo', 'name': time|时间}]}]}}]"
      ]
     },
     "execution_count": 59,
     "metadata": {},
     "output_type": "execute_result"
    }
   ],
   "source": [
    "hownet_dict.get_sememes_by_word(word='耗', display='dict',merge=False, expanded_layer=-1, K=None)"
   ]
  },
  {
   "cell_type": "code",
   "execution_count": null,
   "id": "4b898ea4-b188-45ed-8e97-2e4f80c3ba3b",
   "metadata": {},
   "outputs": [],
   "source": []
  }
 ],
 "metadata": {
  "kernelspec": {
   "display_name": "Python 3 (ipykernel)",
   "language": "python",
   "name": "python3"
  },
  "language_info": {
   "codemirror_mode": {
    "name": "ipython",
    "version": 3
   },
   "file_extension": ".py",
   "mimetype": "text/x-python",
   "name": "python",
   "nbconvert_exporter": "python",
   "pygments_lexer": "ipython3",
   "version": "3.7.9"
  }
 },
 "nbformat": 4,
 "nbformat_minor": 5
}